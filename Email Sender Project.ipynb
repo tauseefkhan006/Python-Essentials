{
 "cells": [
  {
   "cell_type": "markdown",
   "metadata": {},
   "source": [
    "<h2 style =\"color: red; text-align: center;\">Email Sender Project</h2>"
   ]
  },
  {
   "cell_type": "markdown",
   "metadata": {},
   "source": [
    "<h4 style =\"text-align: center;\">A Python Script which we can use to send Emails to our Friends and Family member.</h4>"
   ]
  },
  {
   "cell_type": "code",
   "execution_count": 1,
   "metadata": {},
   "outputs": [],
   "source": [
    "import emails"
   ]
  },
  {
   "cell_type": "code",
   "execution_count": 2,
   "metadata": {},
   "outputs": [],
   "source": [
    "def SendMails(email,name):\n",
    "    html_text = '''<p><span style='font-family: \"Trebuchet MS\", Helvetica, sans-serif;'>Hi ''' +name +''',</span></p>\n",
    "                <p><span style=\"font-family: 'Trebuchet MS', Helvetica, sans-serif;\"><br></span></p>\n",
    "                <p><span style=\"font-family: 'Trebuchet MS', Helvetica, sans-serif;\">This is <strong>Tauseef Khan</strong> from Mumbai.</span></p>\n",
    "                <p><span style=\"font-family: 'Trebuchet MS', Helvetica, sans-serif;\">This &nbsp;is &nbsp;Test Email through Python.</span></p>\n",
    "                <p><span style=\"font-family: 'Trebuchet MS', Helvetica, sans-serif;\">Hope you doing well.</span></p>\n",
    "                <p><span style=\"font-family: 'Trebuchet MS', Helvetica, sans-serif;\">Happy learning 😇</span></p>\n",
    "                <p><span style=\"font-family: 'Trebuchet MS', Helvetica, sans-serif;\"><br></span></p>\n",
    "                <p><span style=\"font-family: 'Trebuchet MS', Helvetica, sans-serif;\">Regards,</span></p>\n",
    "                <p><strong><span style='font-family: \"Trebuchet MS\", Helvetica, sans-serif;'>Tauseef Khan</span></strong></p>'''\n",
    "    subject = \"Hey \" + name + \" you have email from python script\"\n",
    "    message = emails.html(html=html_text,\n",
    "                          subject= subject,\n",
    "                          mail_from=('LetsUpgrade', 'lets@upgrade.com'))\n",
    "    send_message = message.send(to=email,\n",
    "                            smtp={'host': 'smtp.gmail.com',\n",
    "                                  'timeout': 5,\n",
    "                                 'port': 587,\n",
    "                                  'user': 'your@mailid.com', #enter your email id to access smtp protocol\n",
    "                                  'password': 'yourPassword', #and password\n",
    "                                  'tls': True\n",
    "                                 })\n",
    "    return send_message.status_code"
   ]
  },
  {
   "cell_type": "code",
   "execution_count": 3,
   "metadata": {},
   "outputs": [
    {
     "data": {
      "text/plain": [
       "250"
      ]
     },
     "execution_count": 3,
     "metadata": {},
     "output_type": "execute_result"
    }
   ],
   "source": [
    "SendMails(\"example@mail.com\",\"Aarove\")"
   ]
  }
 ],
 "metadata": {
  "kernelspec": {
   "display_name": "Python 3",
   "language": "python",
   "name": "python3"
  },
  "language_info": {
   "codemirror_mode": {
    "name": "ipython",
    "version": 3
   },
   "file_extension": ".py",
   "mimetype": "text/x-python",
   "name": "python",
   "nbconvert_exporter": "python",
   "pygments_lexer": "ipython3",
   "version": "3.8.3"
  },
  "latex_envs": {
   "LaTeX_envs_menu_present": true,
   "autoclose": false,
   "autocomplete": true,
   "bibliofile": "biblio.bib",
   "cite_by": "apalike",
   "current_citInitial": 1,
   "eqLabelWithNumbers": true,
   "eqNumInitial": 1,
   "hotkeys": {
    "equation": "Ctrl-E",
    "itemize": "Ctrl-I"
   },
   "labels_anchors": false,
   "latex_user_defs": false,
   "report_style_numbering": false,
   "user_envs_cfg": false
  }
 },
 "nbformat": 4,
 "nbformat_minor": 4
}
