{
 "cells": [
  {
   "cell_type": "markdown",
   "metadata": {},
   "source": [
    "## Firestore Demo Project"
   ]
  },
  {
   "cell_type": "code",
   "execution_count": 1,
   "metadata": {},
   "outputs": [],
   "source": [
    "import firebase_admin"
   ]
  },
  {
   "cell_type": "code",
   "execution_count": 2,
   "metadata": {},
   "outputs": [],
   "source": [
    "from firebase_admin import credentials\n",
    "from firebase_admin import firestore"
   ]
  },
  {
   "cell_type": "code",
   "execution_count": 3,
   "metadata": {},
   "outputs": [
    {
     "data": {
      "text/plain": [
       "<firebase_admin.App at 0x27496a9b9d0>"
      ]
     },
     "execution_count": 3,
     "metadata": {},
     "output_type": "execute_result"
    }
   ],
   "source": [
    "#initializing SDK\n",
    "cred = credentials.Certificate(\"python-firecloud-demo-project-firebase-adminsdk-tzt28-1a743d1c23.json\")''\n",
    "firebase_admin.initialize_app(cred)"
   ]
  },
  {
   "cell_type": "code",
   "execution_count": 5,
   "metadata": {},
   "outputs": [],
   "source": [
    "#initializing firestore instance \n",
    "db = firestore.client()"
   ]
  },
  {
   "cell_type": "code",
   "execution_count": 28,
   "metadata": {},
   "outputs": [],
   "source": [
    "#function to add user input data\n",
    "def enterDataInDB():\n",
    "    doc_ref = db.collection(u'Songs').document()\n",
    "    \n",
    "    movieAlbumName = input(\"Movie/Album - \")\n",
    "    songName = input(\"Song - \")\n",
    "    artistName = input(\"Artist - \")\n",
    "    \n",
    "\n",
    "    dict = {}\n",
    "    dict[\"Movie/Album\"] = movieAlbumName\n",
    "    dict[\"Title\"] = songName\n",
    "    dict[\"Artist\"] = artistName\n",
    "    \n",
    "    doc_ref.set(dict)\n"
   ]
  },
  {
   "cell_type": "code",
   "execution_count": 8,
   "metadata": {},
   "outputs": [
    {
     "name": "stdout",
     "output_type": "stream",
     "text": [
      "Movie/Album - The Bodyguard\n",
      "Song - \"I Will Always Love You\"\n",
      "Artist - Whitney Houston\n"
     ]
    }
   ],
   "source": [
    "#adding data\n",
    "enterDataInDB()"
   ]
  },
  {
   "cell_type": "code",
   "execution_count": 9,
   "metadata": {},
   "outputs": [
    {
     "name": "stdout",
     "output_type": "stream",
     "text": [
      "Movie/Album - Purple Rain\n",
      "Song - \"When Doves Cry\"\n",
      "Artist - Prince\n"
     ]
    }
   ],
   "source": [
    "enterDataInDB()"
   ]
  },
  {
   "cell_type": "code",
   "execution_count": 10,
   "metadata": {},
   "outputs": [
    {
     "name": "stdout",
     "output_type": "stream",
     "text": [
      "Movie/Album - Do The Right Thing\n",
      "Song - \"Fight the Power\"\n",
      "Artist - Public Enemy\n"
     ]
    }
   ],
   "source": [
    "enterDataInDB()"
   ]
  },
  {
   "cell_type": "code",
   "execution_count": 17,
   "metadata": {},
   "outputs": [
    {
     "name": "stdout",
     "output_type": "stream",
     "text": [
      "Movie/Album - Hero\n",
      "Song - Main hu Hero Tera\n",
      "Artist - Salman Khan\n"
     ]
    }
   ],
   "source": [
    "enterDataInDB()"
   ]
  },
  {
   "cell_type": "code",
   "execution_count": 18,
   "metadata": {},
   "outputs": [
    {
     "name": "stdout",
     "output_type": "stream",
     "text": [
      "ID -  KWEtLl5Qrr8X4VAreRlR\n",
      "Movie/Album -  Purple Rain\n",
      "Song -  \"When Doves Cry\"\n",
      "Artist -  Prince\n",
      "---------------\n",
      "---------------\n",
      "ID -  WW6g6pD36aoBzUFz7Bh0\n",
      "Movie/Album -  Saturday Night Fever\n",
      "Song -  \"Stayin' Alive\"\n",
      "Artist -  The Bee Gees\n",
      "---------------\n",
      "---------------\n",
      "ID -  kD4PjHW6zLUFgPiOxBe3\n",
      "Movie/Album -  The Bodyguard\n",
      "Song -  \"I Will Always Love You\"\n",
      "Artist -  Whitney Houston\n",
      "---------------\n",
      "---------------\n",
      "ID -  s05C9sStg5jezDghnN8l\n",
      "Movie/Album -  Do The Right Thing\n",
      "Song -  \"Fight the Power\"\n",
      "Artist -  Public Enemy\n",
      "---------------\n",
      "---------------\n",
      "ID -  u0cztYQPEe4upTMbDQH3\n",
      "Movie/Album -  Shaft\n",
      "Song -  \"Theme from Shaft\"\n",
      "Artist -  Isaac Hayes\n",
      "---------------\n",
      "---------------\n",
      "ID -  wrik20Xa7Xje0wnVaj0s\n",
      "Movie/Album -  None\n",
      "Song -  None\n",
      "Artist -  None\n",
      "---------------\n",
      "---------------\n"
     ]
    }
   ],
   "source": [
    "#reading Data\n",
    "docs = db.collection(u'Songs').stream()\n",
    "\n",
    "for doc in docs:\n",
    "#     print(f'{doc.id} => {doc.to_dict()}')\n",
    "    \n",
    "    print(\"ID - \", doc.id)\n",
    "    \n",
    "    print(\"Movie/Album - \", doc.to_dict().get(\"movieAlbumName\"))\n",
    "    print(\"Song - \", doc.to_dict().get(\"songName\"))\n",
    "    print(\"Artist - \", doc.to_dict().get(\"artistName\") )\n",
    "    \n",
    "    print(\"---------------\")\n",
    "    print(\"---------------\")"
   ]
  },
  {
   "cell_type": "code",
   "execution_count": 20,
   "metadata": {},
   "outputs": [],
   "source": [
    "#deleting Data\n",
    "def deleteDataInFirebase(uid):\n",
    "    db.collection(u'Song').document(uid).delete()"
   ]
  },
  {
   "cell_type": "code",
   "execution_count": 21,
   "metadata": {},
   "outputs": [],
   "source": [
    "deleteDataInFirebase(\"wrik20Xa7Xje0wnVaj0s\")"
   ]
  }
 ],
 "metadata": {
  "kernelspec": {
   "display_name": "Python 3",
   "language": "python",
   "name": "python3"
  },
  "language_info": {
   "codemirror_mode": {
    "name": "ipython",
    "version": 3
   },
   "file_extension": ".py",
   "mimetype": "text/x-python",
   "name": "python",
   "nbconvert_exporter": "python",
   "pygments_lexer": "ipython3",
   "version": "3.8.3"
  },
  "latex_envs": {
   "LaTeX_envs_menu_present": true,
   "autoclose": false,
   "autocomplete": true,
   "bibliofile": "biblio.bib",
   "cite_by": "apalike",
   "current_citInitial": 1,
   "eqLabelWithNumbers": true,
   "eqNumInitial": 1,
   "hotkeys": {
    "equation": "Ctrl-E",
    "itemize": "Ctrl-I"
   },
   "labels_anchors": false,
   "latex_user_defs": false,
   "report_style_numbering": false,
   "user_envs_cfg": false
  }
 },
 "nbformat": 4,
 "nbformat_minor": 4
}
