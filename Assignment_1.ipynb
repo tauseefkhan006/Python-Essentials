{
 "cells": [
  {
   "cell_type": "markdown",
   "metadata": {},
   "source": [
    " #                                            Assignment - 1 & 2"
   ]
  },
  {
   "cell_type": "markdown",
   "metadata": {},
   "source": [
    "### Qus.- 1: Try 5 Different functions of the String in Python.\n",
    "### For example - index, split function."
   ]
  },
  {
   "cell_type": "markdown",
   "metadata": {},
   "source": [
    "___#--1-->index()___\n",
    "\n",
    "___#Syntax: string.index(value,start,end)___"
   ]
  },
  {
   "cell_type": "code",
   "execution_count": 1,
   "metadata": {},
   "outputs": [
    {
     "name": "stdout",
     "output_type": "stream",
     "text": [
      "1\n"
     ]
    }
   ],
   "source": [
    "#example:\n",
    "\n",
    "str = \"Hello everyone.\"\n",
    "\n",
    "x = str.index(\"e\")\n",
    "\n",
    "print(x)\n"
   ]
  },
  {
   "cell_type": "code",
   "execution_count": 2,
   "metadata": {},
   "outputs": [
    {
     "name": "stdout",
     "output_type": "stream",
     "text": [
      "8\n"
     ]
    }
   ],
   "source": [
    "txt = \"Hello, welcome to my world.\"\n",
    "\n",
    "x = txt.index(\"e\", 5, 10) #index value of \"e\" between index 5 to 10:\n",
    "\n",
    "print(x)"
   ]
  },
  {
   "cell_type": "markdown",
   "metadata": {},
   "source": [
    "___#--2-->explit()___\n",
    "\n",
    "___#Syntax: string.split(separator, maxsplit)___"
   ]
  },
  {
   "cell_type": "code",
   "execution_count": 3,
   "metadata": {},
   "outputs": [
    {
     "name": "stdout",
     "output_type": "stream",
     "text": [
      "['hello', 'my name is Tauseef', 'I am 22 years old']\n"
     ]
    }
   ],
   "source": [
    "#example: Split the string, using comma, followed by a space, as a separator;\n",
    "ptr = \"hello, my name is Tauseef, I am 22 years old\"\n",
    "\n",
    "x = ptr.split(\", \")\n",
    "\n",
    "print(x)"
   ]
  },
  {
   "cell_type": "code",
   "execution_count": 4,
   "metadata": {},
   "outputs": [
    {
     "name": "stdout",
     "output_type": "stream",
     "text": [
      "['hello', 'my#name#is#Aarove.']\n"
     ]
    }
   ],
   "source": [
    "#example: Split the string into a list with max 2 items;\n",
    "ptr = \"hello#my#name#is#Aarove.\"\n",
    "x = ptr.split(\"#\",1)# setting the maxsplit parameter to 1, will return a list with 2 elements!\n",
    "print(x)"
   ]
  },
  {
   "cell_type": "markdown",
   "metadata": {},
   "source": [
    "__#--3-->strip()__<br>\n",
    "__#syntax: string.strip(characters)__"
   ]
  },
  {
   "cell_type": "code",
   "execution_count": 5,
   "metadata": {},
   "outputs": [
    {
     "name": "stdout",
     "output_type": "stream",
     "text": [
      "Python\n"
     ]
    }
   ],
   "source": [
    "#example: Remove the leading and trailing characters;\n",
    "txt = \",,,,,helhel.....Python....ooo\"\n",
    "\n",
    "x = txt.strip(\",.!helo\")\n",
    "\n",
    "print(x)"
   ]
  },
  {
   "cell_type": "code",
   "execution_count": 6,
   "metadata": {},
   "outputs": [
    {
     "name": "stdout",
     "output_type": "stream",
     "text": [
      "LetsUpgrade\n"
     ]
    }
   ],
   "source": [
    "#example: Remove spaces at the beginning and at the end of the string:\n",
    "txt = \"     LetsUpgrade     \"\n",
    "\n",
    "x = txt.strip()\n",
    "\n",
    "print(x)"
   ]
  },
  {
   "cell_type": "markdown",
   "metadata": {},
   "source": [
    "___#--4-->replace()___\n",
    "\n",
    "___#syntax: string.replace(oldvalue, newvalue, count)___"
   ]
  },
  {
   "cell_type": "code",
   "execution_count": 7,
   "metadata": {},
   "outputs": [
    {
     "name": "stdout",
     "output_type": "stream",
     "text": [
      "three three was a race horse, two two was three too.\n"
     ]
    }
   ],
   "source": [
    "#example: Replace all occurrence of the word \"one\":\n",
    "txt = \"one one was a race horse, two two was one too.\"\n",
    "\n",
    "x = txt.replace(\"one\", \"three\")\n",
    "\n",
    "print(x)\n"
   ]
  },
  {
   "cell_type": "code",
   "execution_count": 8,
   "metadata": {},
   "outputs": [
    {
     "name": "stdout",
     "output_type": "stream",
     "text": [
      "three three was a race horse, two two was one too.\n"
     ]
    }
   ],
   "source": [
    "#example: Replace the two first occurrence of the word \"one\":\n",
    "txt = \"one one was a race horse, two two was one too.\"\n",
    "\n",
    "x = txt.replace(\"one\", \"three\", 2)\n",
    "\n",
    "print(x)"
   ]
  },
  {
   "cell_type": "markdown",
   "metadata": {},
   "source": [
    "___--5-->count()___\n",
    "\n",
    "___#syntax: string.count(value, start, end)___"
   ]
  },
  {
   "cell_type": "code",
   "execution_count": 9,
   "metadata": {},
   "outputs": [
    {
     "name": "stdout",
     "output_type": "stream",
     "text": [
      "2\n"
     ]
    }
   ],
   "source": [
    "#example: Return the number of times the value \"apple\" appears in the string;\n",
    "txt = \"I love apples, apple are my favorite fruit\"\n",
    "\n",
    "x = txt.count(\"apple\")\n",
    "\n",
    "print(x)"
   ]
  },
  {
   "cell_type": "code",
   "execution_count": 10,
   "metadata": {},
   "outputs": [
    {
     "name": "stdout",
     "output_type": "stream",
     "text": [
      "1\n"
     ]
    }
   ],
   "source": [
    "#example:Search from position 10 to 24;\n",
    "txt = \"I love apples, apple are my favorite fruit\"\n",
    "\n",
    "x = txt.count(\"apple\", 10, 24)\n",
    "\n",
    "print(x)"
   ]
  },
  {
   "cell_type": "markdown",
   "metadata": {},
   "source": [
    "### Qus.-2: Try 5 Different functions of the List object in Python\n"
   ]
  },
  {
   "cell_type": "markdown",
   "metadata": {},
   "source": [
    "___#--1--> insert()___\n",
    "\n",
    "___syntax: list.insert(position, element)___"
   ]
  },
  {
   "cell_type": "code",
   "execution_count": 11,
   "metadata": {},
   "outputs": [
    {
     "name": "stdout",
     "output_type": "stream",
     "text": [
      "[1, 2, 3, 4, 5, 6]\n",
      "[1, 2, 6, 3, 4, 5, 6]\n"
     ]
    }
   ],
   "source": [
    "#example:\n",
    "list = [1,2,3,4,5,6]\n",
    "print(list)\n",
    "list.insert(2,6)\n",
    "print(list)"
   ]
  },
  {
   "cell_type": "markdown",
   "metadata": {},
   "source": [
    "___#--2--> copy()___\n",
    "\n",
    "___#syntax: list.copy()___"
   ]
  },
  {
   "cell_type": "code",
   "execution_count": 12,
   "metadata": {},
   "outputs": [
    {
     "name": "stdout",
     "output_type": "stream",
     "text": [
      "[1, 2, 6, 3, 4, 5, 6]\n"
     ]
    },
    {
     "data": {
      "text/plain": [
       "list"
      ]
     },
     "execution_count": 12,
     "metadata": {},
     "output_type": "execute_result"
    }
   ],
   "source": [
    "list.copy()\n",
    "print(list)\n",
    "type(list)"
   ]
  },
  {
   "cell_type": "markdown",
   "metadata": {},
   "source": [
    "___#--3--> reverse()___\n",
    "\n",
    "\n",
    "___#syntax: list.reverse()___"
   ]
  },
  {
   "cell_type": "code",
   "execution_count": 13,
   "metadata": {},
   "outputs": [
    {
     "name": "stdout",
     "output_type": "stream",
     "text": [
      "[10, 20, 30, 40, 50]\n",
      "[50, 40, 30, 20, 10]\n"
     ]
    }
   ],
   "source": [
    "l = [10, 20, 30, 40, 50]\n",
    "print(l)\n",
    "l.reverse()\n",
    "print(l)"
   ]
  },
  {
   "cell_type": "markdown",
   "metadata": {},
   "source": [
    "___#--4--> sort()___\n",
    "\n",
    "___#syntax: list.sort(reverse=True|False, key=myFunc)___"
   ]
  },
  {
   "cell_type": "code",
   "execution_count": 14,
   "metadata": {},
   "outputs": [
    {
     "name": "stdout",
     "output_type": "stream",
     "text": [
      "[82, 75, 964, 140, 5, 4]\n",
      "[4, 5, 75, 82, 140, 964]\n",
      "[964, 140, 82, 75, 5, 4]\n"
     ]
    }
   ],
   "source": [
    "#example:\n",
    "l = [82, 75, 964, 140, 5, 4]\n",
    "print(l)\n",
    "l.sort()  #bydeafult assending order\n",
    "print(l)\n",
    "l.sort(reverse=True)  # applying desending order sort\n",
    "print(l)"
   ]
  },
  {
   "cell_type": "markdown",
   "metadata": {},
   "source": [
    "___#--5--> pop()___<br>\n",
    "___#syntax: list.pop(position)___"
   ]
  },
  {
   "cell_type": "code",
   "execution_count": 15,
   "metadata": {},
   "outputs": [
    {
     "name": "stdout",
     "output_type": "stream",
     "text": [
      "['c', 'c++', 'HTML', 'java', 'Python', 'JavaScript']\n",
      "['c', 'c++', 'java', 'Python', 'JavaScript']\n"
     ]
    }
   ],
   "source": [
    "l = [\"c\", \"c++\", \"HTML\", \"java\", \"Python\", \"JavaScript\"]\n",
    "print(l)\n",
    "l.pop(2)  #removing the element \"HTML\" at the index position 2.\n",
    "print(l)"
   ]
  },
  {
   "cell_type": "markdown",
   "metadata": {},
   "source": [
    "### Qus.-3: Experiment with at least 5 default functions of Dictionary "
   ]
  },
  {
   "cell_type": "markdown",
   "metadata": {},
   "source": [
    "___#--1--> fromkeys()___<br>\n",
    "___#syntax: dict.fromkeys(seq, value)___"
   ]
  },
  {
   "cell_type": "code",
   "execution_count": 16,
   "metadata": {},
   "outputs": [
    {
     "name": "stdout",
     "output_type": "stream",
     "text": [
      "{'name': None, 'age': None, 'sex': None}\n",
      "{'name': 10, 'age': 10, 'sex': 10}\n"
     ]
    }
   ],
   "source": [
    "seq = ('name', 'age', 'sex')\n",
    "key= 10\n",
    "dict = dict.fromkeys(seq)  #This is the list of values which would be used for dictionary keys preparation.\n",
    "print(dict)\n",
    "dict = dict.fromkeys(seq, key)  #key is optional, if provided then value would be set to this value\n",
    "print (dict)"
   ]
  },
  {
   "cell_type": "markdown",
   "metadata": {},
   "source": [
    "___#--2--> get()___<br>\n",
    "___#syntax: dict.get(key, default=None)___"
   ]
  },
  {
   "cell_type": "code",
   "execution_count": 17,
   "metadata": {},
   "outputs": [
    {
     "name": "stdout",
     "output_type": "stream",
     "text": [
      "15000\n",
      "Mustang\n"
     ]
    }
   ],
   "source": [
    "#example: Try to return the value of an item that do not exis\n",
    "dict = {\n",
    "  \"brand\": \"Ford\",\n",
    "  \"model\": \"Mustang\",\n",
    "  \"year\": 1964\n",
    "}\n",
    "x = dict.get(\"price\", 15000)\n",
    "print(x)\n",
    "y = dict.get(\"model\") #existing value\n",
    "print(y)"
   ]
  },
  {
   "cell_type": "markdown",
   "metadata": {},
   "source": [
    "___#--3--> keys()___<br>\n",
    "___#syntax: dict.keys()___"
   ]
  },
  {
   "cell_type": "code",
   "execution_count": 18,
   "metadata": {},
   "outputs": [
    {
     "name": "stdout",
     "output_type": "stream",
     "text": [
      "dict_keys(['name', 'age', 'gender'])\n",
      "dict_values(['Tauseef', 20, 'male'])\n"
     ]
    }
   ],
   "source": [
    "dict = {\"name\": \"Tauseef\", \"age\": 20, \"gender\": \"male\"}\n",
    "dict_keys = dict.keys() #getting the dictionary keys\n",
    "print(dict_keys)\n",
    "dict_values = dict.values() #getting the dict values\n",
    "print(dict_values)"
   ]
  },
  {
   "cell_type": "markdown",
   "metadata": {},
   "source": [
    "___#--4--> update()___<br>\n",
    "___#syntax: dictionary.update(iterable)___"
   ]
  },
  {
   "cell_type": "code",
   "execution_count": 19,
   "metadata": {},
   "outputs": [
    {
     "name": "stdout",
     "output_type": "stream",
     "text": [
      "{'name': 'Tauseef', 'age': 20, 'gender': 'male'}\n",
      "{'name': 'Tauseef', 'age': 22, 'gender': 'male'}\n"
     ]
    }
   ],
   "source": [
    "dict = {\"name\": \"Tauseef\", \"age\": 20, \"gender\": \"male\"}\n",
    "print(dict)\n",
    "dict_2 = {\"age\": 22}\n",
    "dict.update(dict_2)\n",
    "print(dict)\n"
   ]
  },
  {
   "cell_type": "markdown",
   "metadata": {},
   "source": [
    "___#--5--> pop()___<br>\n",
    "___#syntax: dictionary.pop(keyname, defaultvalue)___"
   ]
  },
  {
   "cell_type": "code",
   "execution_count": 20,
   "metadata": {},
   "outputs": [
    {
     "name": "stdout",
     "output_type": "stream",
     "text": [
      "{'name': 'Tauseef', 'age': 22, 'gender': 'male'}\n",
      "{'name': 'Tauseef', 'gender': 'male'}\n"
     ]
    }
   ],
   "source": [
    "dict = {'name': 'Tauseef', 'age': 22, 'gender': 'male'}\n",
    "print(dict)\n",
    "dict.pop(\"age\")\n",
    "print(dict)"
   ]
  },
  {
   "cell_type": "code",
   "execution_count": null,
   "metadata": {},
   "outputs": [],
   "source": []
  }
 ],
 "metadata": {
  "kernelspec": {
   "display_name": "Python 3",
   "language": "python",
   "name": "python3"
  },
  "language_info": {
   "codemirror_mode": {
    "name": "ipython",
    "version": 3
   },
   "file_extension": ".py",
   "mimetype": "text/x-python",
   "name": "python",
   "nbconvert_exporter": "python",
   "pygments_lexer": "ipython3",
   "version": "3.8.3"
  },
  "latex_envs": {
   "LaTeX_envs_menu_present": true,
   "autoclose": false,
   "autocomplete": true,
   "bibliofile": "biblio.bib",
   "cite_by": "apalike",
   "current_citInitial": 1,
   "eqLabelWithNumbers": true,
   "eqNumInitial": 1,
   "hotkeys": {
    "equation": "Ctrl-E",
    "itemize": "Ctrl-I"
   },
   "labels_anchors": false,
   "latex_user_defs": false,
   "report_style_numbering": false,
   "user_envs_cfg": false
  }
 },
 "nbformat": 4,
 "nbformat_minor": 4
}
