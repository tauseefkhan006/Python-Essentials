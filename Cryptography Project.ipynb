{
 "cells": [
  {
   "cell_type": "markdown",
   "metadata": {},
   "source": [
    "<h3 style =\"color: green; text-align: center;\">Cryptography Project </h3>\n",
    "\n",
    "<p><em><strong>cryptography</strong> includes both high level recipes and low level interfaces to common <strong>cryptographic</strong> algorithms such as symmetric ciphers, message digests, and key derivation functions. For example, to encrypt something with <strong>cryptography’s</strong> high level symmetric encryption recipe:</em></p>"
   ]
  },
  {
   "cell_type": "markdown",
   "metadata": {},
   "source": [
    "<h4 style =\"color: MediumSeaGreen; text-align: center;\">Encrption And Decryption </h4>"
   ]
  },
  {
   "cell_type": "code",
   "execution_count": 156,
   "metadata": {},
   "outputs": [],
   "source": [
    "#importing the Fernet Module from the Cryptography Pacage\n",
    "from cryptography.fernet import Fernet"
   ]
  },
  {
   "cell_type": "code",
   "execution_count": 2,
   "metadata": {},
   "outputs": [],
   "source": [
    "#genrating the password and storing it into the file Password.key\n",
    "def genratePassKey():\n",
    "    key = Fernet.generate_key()  #generating Pass Key\n",
    "    keyFile = open(\"Password.key\", \"wb\")  #'wb' is uses for writing bytes in file.\n",
    "    keyFile.write(key)\n",
    "    keyFile.close()"
   ]
  },
  {
   "cell_type": "code",
   "execution_count": 23,
   "metadata": {},
   "outputs": [],
   "source": [
    "#reading the password form the file\n",
    "def getMyKey():\n",
    "    keyFile = open(\"Password.key\", \"rb\")\n",
    "    return keyFile.read()\n",
    "    "
   ]
  },
  {
   "cell_type": "code",
   "execution_count": 50,
   "metadata": {},
   "outputs": [],
   "source": [
    "#Taking the Normal Message from the User\n",
    "def getContentFromUser():\n",
    "    normal_message = input(\"Your Message : \")\n",
    "    return normal_message.encode()  #encode(): is use to convert the string into bytes"
   ]
  },
  {
   "cell_type": "code",
   "execution_count": 142,
   "metadata": {},
   "outputs": [],
   "source": [
    "#Encrypting the given message\n",
    "def encryptMessage():\n",
    "    key = getMyKey()\n",
    "    k = Fernet(key)\n",
    "    normal_message = getContentFromUser()\n",
    "    encrypted_Message = k.encrypt(normal_message)\n",
    "    return encrypted_Message.decode() #converting into string\n"
   ]
  },
  {
   "cell_type": "code",
   "execution_count": 139,
   "metadata": {},
   "outputs": [],
   "source": [
    "#Decrypting the encrypted Message\n",
    "def decryptMessage(secret_message):\n",
    "    key = getMyKey()\n",
    "    k = Fernet(key)\n",
    "    decrypted_Message = k.decrypt(secret_message)\n",
    "    return decrypted_Message"
   ]
  },
  {
   "cell_type": "code",
   "execution_count": 155,
   "metadata": {},
   "outputs": [
    {
     "name": "stdout",
     "output_type": "stream",
     "text": [
      "Welcome, What you Want...?\n",
      "-------------------------------------------------\n",
      "For Encryption type E or e \n",
      "For Decryption type D or d\n",
      "-------------------------------------------------\n",
      "e\n",
      "Ok, You want Encryption, Fine!\n",
      "-------------------------------------------------\n",
      "\n",
      "Your Message : hy\n",
      "Your Secret Message :  gAAAAABf3RGc4aIS9ul_pJHPfUSdqjCHsU5_E5lD1xsCYnzp9fQQjFFqGOgLN1LMrPbAWtakZzliRfmH-Vno86xS3JjcXRg-nQ==\n",
      "\n",
      "---------------------------------------------------------------------------------------------------------------\n",
      "copy the Encrypted Massege and paste somewhere for Decryption\n",
      "---------------------------------------------------------------------------------------------------------------\n"
     ]
    }
   ],
   "source": [
    "print(\"Welcome, What you Want...?\")\n",
    "print(\"-------------------------------------------------\")\n",
    "\n",
    "print(\"For Encryption type E or e \\nFor Decryption type D or d\")\n",
    "print(\"-------------------------------------------------\")\n",
    "\n",
    "choice = input()\n",
    "if choice == 'e' or choice == 'E':\n",
    "    print(\"Ok, You want Encryption, Fine!\")\n",
    "    print(\"-------------------------------------------------\")\n",
    "    \n",
    "    genratePassKey()\n",
    "    print(\"\")\n",
    "    print(\"Your Secret Message : \", encryptMessage())\n",
    "    print(\"\")\n",
    "\n",
    "    print(\"---------------------------------------------------------------------------------------------------------------\")\n",
    "    \n",
    "    print(\"copy the Encrypted Massege and paste somewhere for Decryption\")\n",
    "    \n",
    "    #print(\"Your Valuable Key: \",getMyKey().decode()) #uncomment it if you want to print the Password or Key\n",
    "    print(\"---------------------------------------------------------------------------------------------------------------\")\n",
    "    \n",
    "elif choice == 'd' or choice == 'D':\n",
    "    print(\"Ok, You want Decryption, Fine!\")\n",
    "    print(\"--------------------------------------------\")\n",
    "    print(\"\")\n",
    "    \n",
    "    print(\"Copy the key from the Password.key file \")\n",
    "    key = input(\"Your Key: \") #copy key from file Password.key\n",
    "    print(\"--------------------------------------------------------------------------------\")\n",
    "    print(\"\")\n",
    "    \n",
    "    m = input(\"Your Encrypted Message: \").encode()\n",
    "    print(\"\")\n",
    "    \n",
    "    print(f'Your Actual Message: {decryptMessage(m).decode()}')\n",
    "    print(\"----------------------------------------------------\")\n",
    "else:\n",
    "    print(\"ops! invelid choice\")\n",
    "    "
   ]
  },
  {
   "cell_type": "code",
   "execution_count": null,
   "metadata": {},
   "outputs": [],
   "source": []
  }
 ],
 "metadata": {
  "kernelspec": {
   "display_name": "Python 3",
   "language": "python",
   "name": "python3"
  },
  "latex_envs": {
   "LaTeX_envs_menu_present": true,
   "autoclose": false,
   "autocomplete": true,
   "bibliofile": "biblio.bib",
   "cite_by": "apalike",
   "current_citInitial": 1,
   "eqLabelWithNumbers": true,
   "eqNumInitial": 1,
   "hotkeys": {
    "equation": "Ctrl-E",
    "itemize": "Ctrl-I"
   },
   "labels_anchors": false,
   "latex_user_defs": false,
   "report_style_numbering": false,
   "user_envs_cfg": false
  }
 },
 "nbformat": 4,
 "nbformat_minor": 4
}
